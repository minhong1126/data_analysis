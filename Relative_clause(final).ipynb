{
  "nbformat": 4,
  "nbformat_minor": 0,
  "metadata": {
    "colab": {
      "name": "Relative clause(final)",
      "provenance": [],
      "collapsed_sections": [],
      "authorship_tag": "ABX9TyPGtKkIlFaRKt5nGK9fFM+/",
      "include_colab_link": true
    },
    "kernelspec": {
      "name": "python3",
      "display_name": "Python 3"
    },
    "language_info": {
      "name": "python"
    }
  },
  "cells": [
    {
      "cell_type": "markdown",
      "metadata": {
        "id": "view-in-github",
        "colab_type": "text"
      },
      "source": [
        "<a href=\"https://colab.research.google.com/github/minhong1126/data_analysis/blob/main/Relative_clause(final).ipynb\" target=\"_parent\"><img src=\"https://colab.research.google.com/assets/colab-badge.svg\" alt=\"Open In Colab\"/></a>"
      ]
    },
    {
      "cell_type": "markdown",
      "metadata": {
        "id": "0CPTqvmBclvi"
      },
      "source": [
        "1. 가시화\n",
        " : 자료에 있는 비율 가시화.\n",
        "\n",
        "> (1) RRC(restrictive relative clause, 제한적 용법), NRRC(non-restrictive relative clase, 연속적 용법) 분류\n",
        "\n",
        "\n",
        "> (2) 문장 타입별 분류\n",
        "\n",
        "\n",
        "\n",
        "\n",
        "\n",
        "\n",
        "\n",
        "\n",
        "\n",
        "\n"
      ]
    },
    {
      "cell_type": "code",
      "metadata": {
        "id": "rv3OUI15xzdh"
      },
      "source": [
        "import numpy as np\n",
        "import pandas as pd\n",
        "import matplotlib.pyplot as plt\n",
        "import seaborn as sns"
      ],
      "execution_count": 41,
      "outputs": []
    },
    {
      "cell_type": "code",
      "metadata": {
        "colab": {
          "base_uri": "https://localhost:8080/",
          "height": 283
        },
        "id": "Vqo4ZgS4yVjp",
        "outputId": "8f13e1d9-c6f1-4bb5-904b-ee9b7673d9e1"
      },
      "source": [
        "## 1. RRC와 NRRC\n",
        "given_meaning = pd.DataFrame({\n",
        "    'Token': [95, 117, 4, 3, 10, 6, 28, 169, 181, 0],\n",
        "    'Type': ['RRC', 'NRRC', 'RRC', 'NRRC', 'RRC', 'NRRC', 'RRC', 'NRRC', 'RRC', 'NRRC']},\n",
        "    index = ['who', 'who', 'whose', 'whose', 'whom', 'whom', 'which', 'which', 'that', 'that']\n",
        ")\n",
        "\n",
        "sns.barplot(x = given_meaning.index, y = 'Token', hue = 'Type', data = given_meaning)\n",
        "plt.title('Frequency of occurence of relative clauses', fontsize = 15)\n",
        "plt.show()"
      ],
      "execution_count": 47,
      "outputs": [
        {
          "output_type": "display_data",
          "data": {
            "image/png": "[encoded data removed]",
            "text/plain": [
              "<Figure size 432x288 with 1 Axes>"
            ]
          },
          "metadata": {
            "needs_background": "light"
          }
        }
      ]
    },
    {
      "cell_type": "markdown",
      "metadata": {
        "id": "E0HnQMsXwbFD"
      },
      "source": [
        ""
      ]
    },
    {
      "cell_type": "code",
      "metadata": {
        "id": "mpeQPOnqco17"
      },
      "source": [
        "from bs4 import BeautifulSoup as bs\n",
        "import requests"
      ],
      "execution_count": null,
      "outputs": []
    },
    {
      "cell_type": "code",
      "metadata": {
        "id": "d8a62PFjhF7Z",
        "colab": {
          "base_uri": "https://localhost:8080/"
        },
        "outputId": "727d8949-b36b-4f56-f694-6c7dba0a0623"
      },
      "source": [
        "#(1) 기사 제목 가져오기\n",
        "url = requests.get(\"https://www.nytimes.com/search?dropmab=false&query=that&sort=best\")\n",
        "text = url.text\n",
        "soup = bs(text, 'html.parser')\n",
        "\n",
        "title = soup.find('title')\n",
        "title"
      ],
      "execution_count": null,
      "outputs": [
        {
          "output_type": "execute_result",
          "data": {
            "text/plain": [
              "<title data-rh=\"true\">The New York Times - Search</title>"
            ]
          },
          "metadata": {},
          "execution_count": 10
        }
      ]
    }
  ]
}