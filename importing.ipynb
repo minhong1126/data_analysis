{
  "nbformat": 4,
  "nbformat_minor": 0,
  "metadata": {
    "colab": {
      "name": "importing.ipynb",
      "provenance": [],
      "authorship_tag": "ABX9TyNhzpQmmRJf+Z54J90/H8zX",
      "include_colab_link": true
    },
    "kernelspec": {
      "name": "python3",
      "display_name": "Python 3"
    },
    "language_info": {
      "name": "python"
    }
  },
  "cells": [
    {
      "cell_type": "markdown",
      "metadata": {
        "id": "view-in-github",
        "colab_type": "text"
      },
      "source": [
        "<a href=\"https://colab.research.google.com/github/minhong1126/data_analysis/blob/main/importing.ipynb\" target=\"_parent\"><img src=\"https://colab.research.google.com/assets/colab-badge.svg\" alt=\"Open In Colab\"/></a>"
      ]
    },
    {
      "cell_type": "code",
      "metadata": {
        "id": "kOuTKPiwANmZ"
      },
      "source": [
        "import numpy as np\n",
        "import pandas as pd\n",
        "import scipy\n",
        "import matplotlib\n",
        "import seaborn as sns\n",
        "import sklearn"
      ],
      "execution_count": 1,
      "outputs": []
    },
    {
      "cell_type": "code",
      "metadata": {
        "colab": {
          "base_uri": "https://localhost:8080/"
        },
        "id": "mRbjGF03Ak1R",
        "outputId": "fa45046d-74e5-446e-b08f-759578560adf"
      },
      "source": [
        "print(f'numpy version: {np.__version__}')\n",
        "print(f'pandas version: {np.__version__}')\n",
        "print(f'scipy version: {scipy.__version__}')\n",
        "print(f'matplotlib version: {matplotlib.__version__}')\n",
        "print(f'seaborn version: {sns.__version__}')\n",
        "print(f'sklearn version: {sklearn.__version__}')"
      ],
      "execution_count": 2,
      "outputs": [
        {
          "output_type": "stream",
          "name": "stdout",
          "text": [
            "numpy version: 1.19.5\n",
            "pandas version: 1.19.5\n",
            "scipy version: 1.4.1\n",
            "matplotlib version: 3.2.2\n",
            "seaborn version: 0.11.1\n",
            "sklearn version: 0.22.2.post1\n"
          ]
        }
      ]
    }
  ]
}